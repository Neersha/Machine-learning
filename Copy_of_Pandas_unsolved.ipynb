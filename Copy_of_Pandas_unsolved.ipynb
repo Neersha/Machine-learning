{
  "nbformat": 4,
  "nbformat_minor": 0,
  "metadata": {
    "kernelspec": {
      "display_name": "Python 3",
      "language": "python",
      "name": "python3"
    },
    "language_info": {
      "codemirror_mode": {
        "name": "ipython",
        "version": 3
      },
      "file_extension": ".py",
      "mimetype": "text/x-python",
      "name": "python",
      "nbconvert_exporter": "python",
      "pygments_lexer": "ipython3",
      "version": "3.7.6"
    },
    "colab": {
      "provenance": [],
      "include_colab_link": true
    }
  },
  "cells": [
    {
      "cell_type": "markdown",
      "metadata": {
        "id": "view-in-github",
        "colab_type": "text"
      },
      "source": [
        "<a href=\"https://colab.research.google.com/github/Neersha/Machine-learning/blob/main/Copy_of_Pandas_unsolved.ipynb\" target=\"_parent\"><img src=\"https://colab.research.google.com/assets/colab-badge.svg\" alt=\"Open In Colab\"/></a>"
      ]
    },
    {
      "cell_type": "markdown",
      "metadata": {
        "id": "jX_2xY4vXscP"
      },
      "source": [
        "<a href=\"https://colab.research.google.com/github/Python-is-Cool-Kids/PyCK-2021/blob/main/lecture7/Pandas_unsolved.ipynb\" target=\"_parent\"><img src=\"https://colab.research.google.com/assets/colab-badge.svg\" alt=\"Open In Colab\"/></a>"
      ]
    },
    {
      "cell_type": "code",
      "metadata": {
        "id": "LshZD-UTXscU"
      },
      "source": [
        "# # Uncomment and Run this cell only if you are opening this notebook on Google Colab.\n",
        "# !git clone https://github.com/Python-is-Cool-Kids/PyCK-2021.git  # clone repo\n",
        "# %cd PyCK-2021/lecture7/\n",
        "# !bash get_data.sh"
      ],
      "execution_count": null,
      "outputs": []
    },
    {
      "cell_type": "code",
      "metadata": {
        "id": "LLWJp-MYXscV"
      },
      "source": [
        "%matplotlib inline\n",
        "import pandas as pd"
      ],
      "execution_count": null,
      "outputs": []
    },
    {
      "cell_type": "code",
      "metadata": {
        "id": "fABRpR4rXscW",
        "outputId": "ef0a503f-5bf1-4111-94cf-bc8f3626d85d",
        "colab": {
          "base_uri": "https://localhost:8080/",
          "height": 197
        }
      },
      "source": [
        "from IPython.core.display import HTML\n",
        "css = open('style-table.css').read() + open('style-notebook.css').read()\n",
        "HTML('<style>{}</style>'.format(css))"
      ],
      "execution_count": null,
      "outputs": [
        {
          "output_type": "error",
          "ename": "FileNotFoundError",
          "evalue": "ignored",
          "traceback": [
            "\u001b[0;31m---------------------------------------------------------------------------\u001b[0m",
            "\u001b[0;31mFileNotFoundError\u001b[0m                         Traceback (most recent call last)",
            "\u001b[0;32m<ipython-input-2-6fab06cda22c>\u001b[0m in \u001b[0;36m<module>\u001b[0;34m()\u001b[0m\n\u001b[1;32m      1\u001b[0m \u001b[0;32mfrom\u001b[0m \u001b[0mIPython\u001b[0m\u001b[0;34m.\u001b[0m\u001b[0mcore\u001b[0m\u001b[0;34m.\u001b[0m\u001b[0mdisplay\u001b[0m \u001b[0;32mimport\u001b[0m \u001b[0mHTML\u001b[0m\u001b[0;34m\u001b[0m\u001b[0;34m\u001b[0m\u001b[0m\n\u001b[0;32m----> 2\u001b[0;31m \u001b[0mcss\u001b[0m \u001b[0;34m=\u001b[0m \u001b[0mopen\u001b[0m\u001b[0;34m(\u001b[0m\u001b[0;34m'style-table.css'\u001b[0m\u001b[0;34m)\u001b[0m\u001b[0;34m.\u001b[0m\u001b[0mread\u001b[0m\u001b[0;34m(\u001b[0m\u001b[0;34m)\u001b[0m \u001b[0;34m+\u001b[0m \u001b[0mopen\u001b[0m\u001b[0;34m(\u001b[0m\u001b[0;34m'style-notebook.css'\u001b[0m\u001b[0;34m)\u001b[0m\u001b[0;34m.\u001b[0m\u001b[0mread\u001b[0m\u001b[0;34m(\u001b[0m\u001b[0;34m)\u001b[0m\u001b[0;34m\u001b[0m\u001b[0;34m\u001b[0m\u001b[0m\n\u001b[0m\u001b[1;32m      3\u001b[0m \u001b[0mHTML\u001b[0m\u001b[0;34m(\u001b[0m\u001b[0;34m'<style>{}</style>'\u001b[0m\u001b[0;34m.\u001b[0m\u001b[0mformat\u001b[0m\u001b[0;34m(\u001b[0m\u001b[0mcss\u001b[0m\u001b[0;34m)\u001b[0m\u001b[0;34m)\u001b[0m\u001b[0;34m\u001b[0m\u001b[0;34m\u001b[0m\u001b[0m\n",
            "\u001b[0;31mFileNotFoundError\u001b[0m: [Errno 2] No such file or directory: 'style-table.css'"
          ]
        }
      ]
    },
    {
      "cell_type": "code",
      "metadata": {
        "id": "omqOJM3LXscW"
      },
      "source": [
        "titles = pd.read_csv('data/titles.csv')\n",
        "titles.head()"
      ],
      "execution_count": null,
      "outputs": []
    },
    {
      "cell_type": "code",
      "metadata": {
        "id": "ccV4o5jdXscX"
      },
      "source": [
        "cast = pd.read_csv('data/cast.csv')\n",
        "cast.head()"
      ],
      "execution_count": null,
      "outputs": []
    },
    {
      "cell_type": "markdown",
      "metadata": {
        "collapsed": true,
        "id": "QnFy_VqdXscY"
      },
      "source": [
        "### How many movies are listed in the titles dataframe?"
      ]
    },
    {
      "cell_type": "code",
      "metadata": {
        "id": "bRXSS3wtXscY"
      },
      "source": [],
      "execution_count": null,
      "outputs": []
    },
    {
      "cell_type": "code",
      "metadata": {
        "id": "RqeT8KhRXscZ"
      },
      "source": [],
      "execution_count": null,
      "outputs": []
    },
    {
      "cell_type": "markdown",
      "metadata": {
        "collapsed": true,
        "id": "cZK9o0swXscZ"
      },
      "source": [
        "### What are the earliest two films listed in the titles dataframe?"
      ]
    },
    {
      "cell_type": "code",
      "metadata": {
        "id": "tONlp1dQXsca"
      },
      "source": [],
      "execution_count": null,
      "outputs": []
    },
    {
      "cell_type": "code",
      "metadata": {
        "id": "VZiY2Zg0Xsca"
      },
      "source": [],
      "execution_count": null,
      "outputs": []
    },
    {
      "cell_type": "markdown",
      "metadata": {
        "collapsed": true,
        "id": "aFS_VceYXscb"
      },
      "source": [
        "### How many movies have the title \"Hamlet\"?"
      ]
    },
    {
      "cell_type": "code",
      "metadata": {
        "id": "ac72yBg4Xscb"
      },
      "source": [],
      "execution_count": null,
      "outputs": []
    },
    {
      "cell_type": "code",
      "metadata": {
        "id": "WEy6SNIMXscb"
      },
      "source": [],
      "execution_count": null,
      "outputs": []
    },
    {
      "cell_type": "markdown",
      "metadata": {
        "collapsed": true,
        "id": "dTHdnknpXscc"
      },
      "source": [
        "### How many movies are titled \"North by Northwest\"?"
      ]
    },
    {
      "cell_type": "code",
      "metadata": {
        "id": "zc3NauiZXscc"
      },
      "source": [],
      "execution_count": null,
      "outputs": []
    },
    {
      "cell_type": "code",
      "metadata": {
        "id": "qxLCqvLSXscd"
      },
      "source": [],
      "execution_count": null,
      "outputs": []
    },
    {
      "cell_type": "markdown",
      "metadata": {
        "collapsed": true,
        "id": "dGLyZ3tlXscd"
      },
      "source": [
        "### When was the first movie titled \"Hamlet\" made?"
      ]
    },
    {
      "cell_type": "code",
      "metadata": {
        "id": "SnljuCwLXsce"
      },
      "source": [],
      "execution_count": null,
      "outputs": []
    },
    {
      "cell_type": "code",
      "metadata": {
        "id": "P7r6JT8LXscf"
      },
      "source": [],
      "execution_count": null,
      "outputs": []
    },
    {
      "cell_type": "markdown",
      "metadata": {
        "collapsed": true,
        "id": "rj_OtGsaXscf"
      },
      "source": [
        "### List all of the \"Treasure Island\" movies from earliest to most recent."
      ]
    },
    {
      "cell_type": "code",
      "metadata": {
        "id": "l9OrRFAGXsch"
      },
      "source": [],
      "execution_count": null,
      "outputs": []
    },
    {
      "cell_type": "code",
      "metadata": {
        "id": "t3Fs5rKdXsch"
      },
      "source": [],
      "execution_count": null,
      "outputs": []
    },
    {
      "cell_type": "markdown",
      "metadata": {
        "collapsed": true,
        "id": "rQ1MEeCqXsci"
      },
      "source": [
        "### How many movies were made in the year 1950?"
      ]
    },
    {
      "cell_type": "code",
      "metadata": {
        "id": "u99DlgeIXsci"
      },
      "source": [],
      "execution_count": null,
      "outputs": []
    },
    {
      "cell_type": "code",
      "metadata": {
        "id": "-GkZqSO9Xscj"
      },
      "source": [],
      "execution_count": null,
      "outputs": []
    },
    {
      "cell_type": "markdown",
      "metadata": {
        "collapsed": true,
        "id": "XR8aNX5WXscj"
      },
      "source": [
        "### How many movies were made in the year 1960?"
      ]
    },
    {
      "cell_type": "code",
      "metadata": {
        "id": "qNBHQRlQXscj"
      },
      "source": [],
      "execution_count": null,
      "outputs": []
    },
    {
      "cell_type": "code",
      "metadata": {
        "id": "7FqGytBVXsck"
      },
      "source": [],
      "execution_count": null,
      "outputs": []
    },
    {
      "cell_type": "markdown",
      "metadata": {
        "collapsed": true,
        "id": "-yo4g9mpXsck"
      },
      "source": [
        "### How many movies were made from 1950 through 1959?"
      ]
    },
    {
      "cell_type": "code",
      "metadata": {
        "id": "_LvYctzNXsck"
      },
      "source": [],
      "execution_count": null,
      "outputs": []
    },
    {
      "cell_type": "code",
      "metadata": {
        "id": "h0bnu2lZXscn"
      },
      "source": [],
      "execution_count": null,
      "outputs": []
    },
    {
      "cell_type": "markdown",
      "metadata": {
        "collapsed": true,
        "id": "krdp1ZFTXscn"
      },
      "source": [
        "### In what years has a movie titled \"Batman\" been released?"
      ]
    },
    {
      "cell_type": "code",
      "metadata": {
        "id": "pPLu-nZ7Xsco"
      },
      "source": [],
      "execution_count": null,
      "outputs": []
    },
    {
      "cell_type": "code",
      "metadata": {
        "id": "2zyl_kMRXsco"
      },
      "source": [],
      "execution_count": null,
      "outputs": []
    },
    {
      "cell_type": "markdown",
      "metadata": {
        "collapsed": true,
        "id": "_Wux8b9jXscp"
      },
      "source": [
        "### How many roles were there in the movie \"Inception\"?"
      ]
    },
    {
      "cell_type": "code",
      "metadata": {
        "id": "e46SKfVEXscp"
      },
      "source": [],
      "execution_count": null,
      "outputs": []
    },
    {
      "cell_type": "code",
      "metadata": {
        "id": "-iHodwFzXscq"
      },
      "source": [],
      "execution_count": null,
      "outputs": []
    },
    {
      "cell_type": "markdown",
      "metadata": {
        "collapsed": true,
        "id": "SQjuDVNDXscq"
      },
      "source": [
        "### How many roles in the movie \"Inception\" are NOT ranked by an \"n\" value?"
      ]
    },
    {
      "cell_type": "code",
      "metadata": {
        "id": "GRJPap3DXscq"
      },
      "source": [],
      "execution_count": null,
      "outputs": []
    },
    {
      "cell_type": "code",
      "metadata": {
        "id": "8zjHkgu_Xscr"
      },
      "source": [],
      "execution_count": null,
      "outputs": []
    },
    {
      "cell_type": "markdown",
      "metadata": {
        "collapsed": true,
        "id": "OcS9NCxjXscr"
      },
      "source": [
        "### But how many roles in the movie \"Inception\" did receive an \"n\" value?"
      ]
    },
    {
      "cell_type": "code",
      "metadata": {
        "id": "B9dmXk0sXscs"
      },
      "source": [],
      "execution_count": null,
      "outputs": []
    },
    {
      "cell_type": "code",
      "metadata": {
        "id": "fboDdRAfXscs"
      },
      "source": [],
      "execution_count": null,
      "outputs": []
    },
    {
      "cell_type": "markdown",
      "metadata": {
        "collapsed": true,
        "id": "79h6UyFWXsct"
      },
      "source": [
        "### Display the cast of \"North by Northwest\" in their correct \"n\"-value order, ignoring roles that did not earn a numeric \"n\" value."
      ]
    },
    {
      "cell_type": "code",
      "metadata": {
        "id": "4bJWgeR9Xsct"
      },
      "source": [],
      "execution_count": null,
      "outputs": []
    },
    {
      "cell_type": "code",
      "metadata": {
        "id": "fp1DDoARXsct"
      },
      "source": [],
      "execution_count": null,
      "outputs": []
    },
    {
      "cell_type": "markdown",
      "metadata": {
        "collapsed": true,
        "id": "u8QqvI8kXscu"
      },
      "source": [
        "### Display the entire cast, in \"n\"-order, of the 1972 film \"Sleuth\"."
      ]
    },
    {
      "cell_type": "code",
      "metadata": {
        "id": "RkHIsCspXscu"
      },
      "source": [],
      "execution_count": null,
      "outputs": []
    },
    {
      "cell_type": "code",
      "metadata": {
        "id": "dZQ69xoSXscw"
      },
      "source": [],
      "execution_count": null,
      "outputs": []
    },
    {
      "cell_type": "markdown",
      "metadata": {
        "collapsed": true,
        "id": "7dqqed42Xscx"
      },
      "source": [
        "### Now display the entire cast, in \"n\"-order, of the 2007 version of \"Sleuth\"."
      ]
    },
    {
      "cell_type": "code",
      "metadata": {
        "id": "5X77tlyLXscy"
      },
      "source": [],
      "execution_count": null,
      "outputs": []
    },
    {
      "cell_type": "code",
      "metadata": {
        "id": "aOacPwqVXscz"
      },
      "source": [],
      "execution_count": null,
      "outputs": []
    },
    {
      "cell_type": "markdown",
      "metadata": {
        "collapsed": true,
        "id": "8bem4ZErXscz"
      },
      "source": [
        "### How many roles were credited in the silent 1921 version of Hamlet?"
      ]
    },
    {
      "cell_type": "code",
      "metadata": {
        "id": "3CzoySVzXsc0"
      },
      "source": [],
      "execution_count": null,
      "outputs": []
    },
    {
      "cell_type": "code",
      "metadata": {
        "id": "PtAfbw0rXsc0"
      },
      "source": [],
      "execution_count": null,
      "outputs": []
    },
    {
      "cell_type": "markdown",
      "metadata": {
        "collapsed": true,
        "id": "4lzjAiDqXsc0"
      },
      "source": [
        "### How many roles were credited in Branagh’s 1996 Hamlet?"
      ]
    },
    {
      "cell_type": "code",
      "metadata": {
        "id": "O83CXPC9Xsc1"
      },
      "source": [],
      "execution_count": null,
      "outputs": []
    },
    {
      "cell_type": "code",
      "metadata": {
        "id": "wSZhuHmdXsc1"
      },
      "source": [],
      "execution_count": null,
      "outputs": []
    },
    {
      "cell_type": "markdown",
      "metadata": {
        "collapsed": true,
        "id": "P24S6N-lXsc2"
      },
      "source": [
        "### How many \"Hamlet\" roles have been listed in all film credits through history?"
      ]
    },
    {
      "cell_type": "code",
      "metadata": {
        "id": "8Fl0HUxPXsc2"
      },
      "source": [],
      "execution_count": null,
      "outputs": []
    },
    {
      "cell_type": "code",
      "metadata": {
        "id": "2Q77fdMjXsc2"
      },
      "source": [],
      "execution_count": null,
      "outputs": []
    },
    {
      "cell_type": "markdown",
      "metadata": {
        "collapsed": true,
        "id": "4Ai375zmXsc3"
      },
      "source": [
        "### How many people have played an \"Ophelia\"?"
      ]
    },
    {
      "cell_type": "code",
      "metadata": {
        "id": "rHd1nVowXsc3"
      },
      "source": [],
      "execution_count": null,
      "outputs": []
    },
    {
      "cell_type": "code",
      "metadata": {
        "id": "bJ4YrqepXsc3"
      },
      "source": [],
      "execution_count": null,
      "outputs": []
    },
    {
      "cell_type": "markdown",
      "metadata": {
        "collapsed": true,
        "id": "PbfLFYTMXsc3"
      },
      "source": [
        "### How many people have played a role called \"The Dude\"?"
      ]
    },
    {
      "cell_type": "code",
      "metadata": {
        "id": "Jkirxw6eXsc4"
      },
      "source": [],
      "execution_count": null,
      "outputs": []
    },
    {
      "cell_type": "code",
      "metadata": {
        "id": "r0foEVcnXsc4"
      },
      "source": [],
      "execution_count": null,
      "outputs": []
    },
    {
      "cell_type": "markdown",
      "metadata": {
        "collapsed": true,
        "id": "r7TjIUs8Xsc4"
      },
      "source": [
        "### How many people have played a role called \"The Stranger\"?"
      ]
    },
    {
      "cell_type": "code",
      "metadata": {
        "id": "_3SLZCOPXsc5"
      },
      "source": [],
      "execution_count": null,
      "outputs": []
    },
    {
      "cell_type": "code",
      "metadata": {
        "id": "sShfQV0_Xsc5"
      },
      "source": [],
      "execution_count": null,
      "outputs": []
    },
    {
      "cell_type": "markdown",
      "metadata": {
        "collapsed": true,
        "id": "fLImKvQwXsc5"
      },
      "source": [
        "### How many roles has Sidney Poitier played throughout his career?"
      ]
    },
    {
      "cell_type": "code",
      "metadata": {
        "id": "i79ZOmTUXsc6"
      },
      "source": [],
      "execution_count": null,
      "outputs": []
    },
    {
      "cell_type": "code",
      "metadata": {
        "id": "gq329tkOXsc6"
      },
      "source": [],
      "execution_count": null,
      "outputs": []
    },
    {
      "cell_type": "markdown",
      "metadata": {
        "collapsed": true,
        "id": "xX5bphCTXsc6"
      },
      "source": [
        "### How many roles has Judi Dench played?"
      ]
    },
    {
      "cell_type": "code",
      "metadata": {
        "id": "rtllrU55Xsc7"
      },
      "source": [],
      "execution_count": null,
      "outputs": []
    },
    {
      "cell_type": "code",
      "metadata": {
        "id": "SF7j2mIfXsc7"
      },
      "source": [],
      "execution_count": null,
      "outputs": []
    },
    {
      "cell_type": "markdown",
      "metadata": {
        "collapsed": true,
        "id": "nv1QUhpCXsc7"
      },
      "source": [
        "### List the supporting roles (having n=2) played by Cary Grant in the 1940s, in order by year."
      ]
    },
    {
      "cell_type": "code",
      "metadata": {
        "id": "fnaNB3C1Xsc8"
      },
      "source": [],
      "execution_count": null,
      "outputs": []
    },
    {
      "cell_type": "code",
      "metadata": {
        "id": "nrfoWcnQXsc8"
      },
      "source": [],
      "execution_count": null,
      "outputs": []
    },
    {
      "cell_type": "markdown",
      "metadata": {
        "collapsed": true,
        "id": "41UZfVBzXsc9"
      },
      "source": [
        "### List the leading roles that Cary Grant played in the 1940s in order by year."
      ]
    },
    {
      "cell_type": "code",
      "metadata": {
        "id": "LasB1UXxXsc9"
      },
      "source": [],
      "execution_count": null,
      "outputs": []
    },
    {
      "cell_type": "code",
      "metadata": {
        "id": "Neo67AtzXsc-"
      },
      "source": [],
      "execution_count": null,
      "outputs": []
    },
    {
      "cell_type": "markdown",
      "metadata": {
        "collapsed": true,
        "id": "7YPoR4jpXsc-"
      },
      "source": [
        "### How many roles were available for actors in the 1950s?"
      ]
    },
    {
      "cell_type": "code",
      "metadata": {
        "id": "iEllMdpRXsdA"
      },
      "source": [],
      "execution_count": null,
      "outputs": []
    },
    {
      "cell_type": "code",
      "metadata": {
        "id": "TPEnYIeAXsdA"
      },
      "source": [],
      "execution_count": null,
      "outputs": []
    },
    {
      "cell_type": "markdown",
      "metadata": {
        "collapsed": true,
        "id": "8g9QOrqkXsdD"
      },
      "source": [
        "### How many roles were available for actresses in the 1950s?"
      ]
    },
    {
      "cell_type": "code",
      "metadata": {
        "id": "FD8k-m9RXsdE"
      },
      "source": [],
      "execution_count": null,
      "outputs": []
    },
    {
      "cell_type": "code",
      "metadata": {
        "id": "6WUR3o0yXsdF"
      },
      "source": [],
      "execution_count": null,
      "outputs": []
    },
    {
      "cell_type": "markdown",
      "metadata": {
        "collapsed": true,
        "id": "DhmSyuYRXsdG"
      },
      "source": [
        "### How many leading roles (n=1) were available from the beginning of film history through 1980?"
      ]
    },
    {
      "cell_type": "code",
      "metadata": {
        "id": "EsD5gmQiXsdK"
      },
      "source": [],
      "execution_count": null,
      "outputs": []
    },
    {
      "cell_type": "code",
      "metadata": {
        "id": "gBuNc4LjXsdL"
      },
      "source": [],
      "execution_count": null,
      "outputs": []
    },
    {
      "cell_type": "markdown",
      "metadata": {
        "collapsed": true,
        "id": "cmm8xAthXsdL"
      },
      "source": [
        "### How many non-leading roles were available through from the beginning of film history through 1980?"
      ]
    },
    {
      "cell_type": "code",
      "metadata": {
        "id": "XpQoO_odXsdM"
      },
      "source": [],
      "execution_count": null,
      "outputs": []
    },
    {
      "cell_type": "code",
      "metadata": {
        "id": "WPOXCMgrXsdM"
      },
      "source": [],
      "execution_count": null,
      "outputs": []
    },
    {
      "cell_type": "markdown",
      "metadata": {
        "collapsed": true,
        "id": "m6NYKo9GXsdN"
      },
      "source": [
        "### How many roles through 1980 were minor enough that they did not warrant a numeric \"n\" rank?"
      ]
    },
    {
      "cell_type": "code",
      "metadata": {
        "id": "LJFUlscFXsdO"
      },
      "source": [],
      "execution_count": null,
      "outputs": []
    },
    {
      "cell_type": "code",
      "metadata": {
        "id": "Q6bWh8AQXsdO"
      },
      "source": [],
      "execution_count": null,
      "outputs": []
    },
    {
      "cell_type": "markdown",
      "metadata": {
        "id": "hjTYVzA6XsdP"
      },
      "source": [
        "***"
      ]
    },
    {
      "cell_type": "markdown",
      "metadata": {
        "id": "y75y4EaLXsdP"
      },
      "source": [
        "***"
      ]
    },
    {
      "cell_type": "markdown",
      "metadata": {
        "id": "MAL8Ii8BXsdQ"
      },
      "source": [
        "***"
      ]
    },
    {
      "cell_type": "markdown",
      "metadata": {
        "collapsed": true,
        "id": "oECsrs7NXsdR"
      },
      "source": [
        "### What are the ten most common movie names of all time?"
      ]
    },
    {
      "cell_type": "code",
      "metadata": {
        "id": "Z23ukWq_XsdR"
      },
      "source": [],
      "execution_count": null,
      "outputs": []
    },
    {
      "cell_type": "code",
      "metadata": {
        "id": "T_Ew0nTEXsdS"
      },
      "source": [],
      "execution_count": null,
      "outputs": []
    },
    {
      "cell_type": "markdown",
      "metadata": {
        "collapsed": true,
        "id": "1qM9pe8ZXsdS"
      },
      "source": [
        "### Which three years of the 1930s saw the most films released?"
      ]
    },
    {
      "cell_type": "code",
      "metadata": {
        "id": "MUugxygFXsdT"
      },
      "source": [],
      "execution_count": null,
      "outputs": []
    },
    {
      "cell_type": "code",
      "metadata": {
        "id": "YN7KoX5WXsdT"
      },
      "source": [],
      "execution_count": null,
      "outputs": []
    },
    {
      "cell_type": "markdown",
      "metadata": {
        "collapsed": true,
        "id": "jtOw9nc7XsdU"
      },
      "source": [
        "### Plot the number of films that have been released each decade over the history of cinema."
      ]
    },
    {
      "cell_type": "code",
      "metadata": {
        "id": "ROQH65AkXsdU"
      },
      "source": [],
      "execution_count": null,
      "outputs": []
    },
    {
      "cell_type": "code",
      "metadata": {
        "id": "OiFJ_zsEXsdV"
      },
      "source": [],
      "execution_count": null,
      "outputs": []
    },
    {
      "cell_type": "markdown",
      "metadata": {
        "collapsed": true,
        "id": "oX-uRkd7XsdV"
      },
      "source": [
        "### Plot the number of \"Hamlet\" films made each decade."
      ]
    },
    {
      "cell_type": "code",
      "metadata": {
        "id": "gaoA4Tv9XsdW"
      },
      "source": [],
      "execution_count": null,
      "outputs": []
    },
    {
      "cell_type": "code",
      "metadata": {
        "id": "gAekGKPmXsdW"
      },
      "source": [],
      "execution_count": null,
      "outputs": []
    },
    {
      "cell_type": "markdown",
      "metadata": {
        "collapsed": true,
        "id": "oJq-fBq9XsdX"
      },
      "source": [
        "### Plot the number of \"Rustler\" characters in each decade of the history of film."
      ]
    },
    {
      "cell_type": "code",
      "metadata": {
        "id": "-v-zLkgfXsdX"
      },
      "source": [],
      "execution_count": null,
      "outputs": []
    },
    {
      "cell_type": "code",
      "metadata": {
        "id": "jHkHhWI0XsdY"
      },
      "source": [],
      "execution_count": null,
      "outputs": []
    },
    {
      "cell_type": "markdown",
      "metadata": {
        "collapsed": true,
        "id": "5Y0rwTDVXsdY"
      },
      "source": [
        "### Plot the number of \"Hamlet\" characters each decade."
      ]
    },
    {
      "cell_type": "code",
      "metadata": {
        "id": "vxQhtQ_MXsda"
      },
      "source": [],
      "execution_count": null,
      "outputs": []
    },
    {
      "cell_type": "code",
      "metadata": {
        "id": "x5RG551iXsda"
      },
      "source": [],
      "execution_count": null,
      "outputs": []
    },
    {
      "cell_type": "markdown",
      "metadata": {
        "collapsed": true,
        "id": "2MeuLXNeXsdf"
      },
      "source": [
        "### What are the 11 most common character names in movie history?"
      ]
    },
    {
      "cell_type": "code",
      "metadata": {
        "id": "9Lm7rB8gXsdk"
      },
      "source": [],
      "execution_count": null,
      "outputs": []
    },
    {
      "cell_type": "code",
      "metadata": {
        "id": "pjyxS8xeXsdp"
      },
      "source": [],
      "execution_count": null,
      "outputs": []
    },
    {
      "cell_type": "markdown",
      "metadata": {
        "collapsed": true,
        "id": "yuw1EIb8Xsdq"
      },
      "source": [
        "### Who are the 10 people most often credited as \"Herself\" in film history?"
      ]
    },
    {
      "cell_type": "code",
      "metadata": {
        "id": "tTYUHiJPXsdr"
      },
      "source": [],
      "execution_count": null,
      "outputs": []
    },
    {
      "cell_type": "code",
      "metadata": {
        "id": "9ZHlVLdOXseR"
      },
      "source": [],
      "execution_count": null,
      "outputs": []
    },
    {
      "cell_type": "markdown",
      "metadata": {
        "collapsed": true,
        "id": "jtGf_dHYXseR"
      },
      "source": [
        "### Who are the 10 people most often credited as \"Himself\" in film history?"
      ]
    },
    {
      "cell_type": "code",
      "metadata": {
        "id": "8HiHMXflXseS"
      },
      "source": [],
      "execution_count": null,
      "outputs": []
    },
    {
      "cell_type": "code",
      "metadata": {
        "id": "RLb-ZqS6XseV"
      },
      "source": [],
      "execution_count": null,
      "outputs": []
    },
    {
      "cell_type": "markdown",
      "metadata": {
        "collapsed": true,
        "id": "TIXdYhgrXseV"
      },
      "source": [
        "### Which actors or actresses appeared in the most movies in the year 1945?"
      ]
    },
    {
      "cell_type": "code",
      "metadata": {
        "id": "9jFptMuVXsei"
      },
      "source": [],
      "execution_count": null,
      "outputs": []
    },
    {
      "cell_type": "code",
      "metadata": {
        "id": "8ONh0w0TXsel"
      },
      "source": [],
      "execution_count": null,
      "outputs": []
    },
    {
      "cell_type": "markdown",
      "metadata": {
        "collapsed": true,
        "id": "GVpcLkw4Xsem"
      },
      "source": [
        "### Which actors or actresses appeared in the most movies in the year 1985?"
      ]
    },
    {
      "cell_type": "code",
      "metadata": {
        "id": "IiNmf_1MXsen"
      },
      "source": [],
      "execution_count": null,
      "outputs": []
    },
    {
      "cell_type": "code",
      "metadata": {
        "id": "sRsCxIPRXsen"
      },
      "source": [],
      "execution_count": null,
      "outputs": []
    },
    {
      "cell_type": "markdown",
      "metadata": {
        "collapsed": true,
        "id": "n5W2_fQwXseo"
      },
      "source": [
        "### Plot how many roles Mammootty has played in each year of his career."
      ]
    },
    {
      "cell_type": "code",
      "metadata": {
        "id": "LDusy4SFXsep"
      },
      "source": [],
      "execution_count": null,
      "outputs": []
    },
    {
      "cell_type": "code",
      "metadata": {
        "id": "0kcpwTMDXseq"
      },
      "source": [],
      "execution_count": null,
      "outputs": []
    },
    {
      "cell_type": "markdown",
      "metadata": {
        "collapsed": true,
        "id": "UdKFxAALXser"
      },
      "source": [
        "### What are the 10 most frequent roles that start with the phrase \"Patron in\"?"
      ]
    },
    {
      "cell_type": "code",
      "metadata": {
        "id": "WV3o3toPXses"
      },
      "source": [],
      "execution_count": null,
      "outputs": []
    },
    {
      "cell_type": "code",
      "metadata": {
        "id": "tVQrIaTcXseu"
      },
      "source": [],
      "execution_count": null,
      "outputs": []
    },
    {
      "cell_type": "markdown",
      "metadata": {
        "collapsed": true,
        "id": "hDXNSa1KXsfr"
      },
      "source": [
        "### What are the 10 most frequent roles that start with the word \"Science\"?"
      ]
    },
    {
      "cell_type": "code",
      "metadata": {
        "id": "_x89lrskXsfs"
      },
      "source": [],
      "execution_count": null,
      "outputs": []
    },
    {
      "cell_type": "code",
      "metadata": {
        "id": "LvDlrT2PXsfv"
      },
      "source": [],
      "execution_count": null,
      "outputs": []
    },
    {
      "cell_type": "markdown",
      "metadata": {
        "collapsed": true,
        "id": "Sq7oRI_JXsfw"
      },
      "source": [
        "### Plot the n-values of the roles that Judi Dench has played over her career."
      ]
    },
    {
      "cell_type": "code",
      "metadata": {
        "id": "k_jy16i8Xsfw"
      },
      "source": [],
      "execution_count": null,
      "outputs": []
    },
    {
      "cell_type": "code",
      "metadata": {
        "id": "VbjCQtpJXsfx"
      },
      "source": [],
      "execution_count": null,
      "outputs": []
    },
    {
      "cell_type": "markdown",
      "metadata": {
        "collapsed": true,
        "id": "pgmw4Vp0Xsfx"
      },
      "source": [
        "### Plot the n-values of Cary Grant's roles through his career."
      ]
    },
    {
      "cell_type": "code",
      "metadata": {
        "id": "ktydEzpKXsfy"
      },
      "source": [],
      "execution_count": null,
      "outputs": []
    },
    {
      "cell_type": "code",
      "metadata": {
        "id": "oRZvquDcXsfy"
      },
      "source": [],
      "execution_count": null,
      "outputs": []
    },
    {
      "cell_type": "markdown",
      "metadata": {
        "collapsed": true,
        "id": "lxR7C_PNXsfz"
      },
      "source": [
        "### Plot the n-value of the roles that Sidney Poitier has acted over the years."
      ]
    },
    {
      "cell_type": "code",
      "metadata": {
        "id": "h1AhB6r-Xsfz"
      },
      "source": [],
      "execution_count": null,
      "outputs": []
    },
    {
      "cell_type": "code",
      "metadata": {
        "id": "mnpZ7L4CXsf0"
      },
      "source": [],
      "execution_count": null,
      "outputs": []
    },
    {
      "cell_type": "markdown",
      "metadata": {
        "collapsed": true,
        "id": "T6MyqrcQXsf0"
      },
      "source": [
        "### How many leading (n=1) roles were available to actors, and how many to actresses, in the 1950s?"
      ]
    },
    {
      "cell_type": "code",
      "metadata": {
        "id": "r-gyep3hXsf0"
      },
      "source": [],
      "execution_count": null,
      "outputs": []
    },
    {
      "cell_type": "code",
      "metadata": {
        "id": "lFS4s6ZjXsf1"
      },
      "source": [],
      "execution_count": null,
      "outputs": []
    },
    {
      "cell_type": "markdown",
      "metadata": {
        "collapsed": true,
        "id": "TGJt5fFnXsf1"
      },
      "source": [
        "### How many supporting (n=2) roles were available to actors, and how many to actresses, in the 1950s?"
      ]
    },
    {
      "cell_type": "code",
      "metadata": {
        "id": "jACgSKdOXsf2"
      },
      "source": [],
      "execution_count": null,
      "outputs": []
    },
    {
      "cell_type": "code",
      "metadata": {
        "id": "Zabd0iNqXsf6"
      },
      "source": [],
      "execution_count": null,
      "outputs": []
    },
    {
      "cell_type": "code",
      "metadata": {
        "id": "eGtx6mUxXsf7"
      },
      "source": [],
      "execution_count": null,
      "outputs": []
    },
    {
      "cell_type": "markdown",
      "metadata": {
        "id": "YGQl2WQsXsf8"
      },
      "source": [
        "***"
      ]
    },
    {
      "cell_type": "markdown",
      "metadata": {
        "id": "2PRQWmlEXsgS"
      },
      "source": [
        "***"
      ]
    },
    {
      "cell_type": "markdown",
      "metadata": {
        "id": "yY3DvK0ZXsgT"
      },
      "source": [
        "# Quiz TIME"
      ]
    },
    {
      "cell_type": "markdown",
      "metadata": {
        "id": "cvjatIleXsgU"
      },
      "source": [
        "***"
      ]
    },
    {
      "cell_type": "markdown",
      "metadata": {
        "id": "z1HIfHS2XsgU"
      },
      "source": [
        "***"
      ]
    },
    {
      "cell_type": "markdown",
      "metadata": {
        "collapsed": true,
        "id": "X5TyNcgrXsgX"
      },
      "source": [
        "### Using groupby(), plot the number of films that have been released each decade in the history of cinema."
      ]
    },
    {
      "cell_type": "code",
      "metadata": {
        "id": "Qgby-dR8Xsgk"
      },
      "source": [],
      "execution_count": null,
      "outputs": []
    },
    {
      "cell_type": "code",
      "metadata": {
        "id": "57Eq7W40XsiZ"
      },
      "source": [],
      "execution_count": null,
      "outputs": []
    },
    {
      "cell_type": "markdown",
      "metadata": {
        "collapsed": true,
        "id": "Elzf6kSlXsia"
      },
      "source": [
        "### Use groupby() to plot the number of \"Hamlet\" films made each decade."
      ]
    },
    {
      "cell_type": "code",
      "metadata": {
        "id": "PXDxiQHEXsia"
      },
      "source": [],
      "execution_count": null,
      "outputs": []
    },
    {
      "cell_type": "code",
      "metadata": {
        "id": "ziGjWoUGXsic"
      },
      "source": [],
      "execution_count": null,
      "outputs": []
    },
    {
      "cell_type": "markdown",
      "metadata": {
        "collapsed": true,
        "id": "UB9rA7Z3Xsid"
      },
      "source": [
        "### How many leading (n=1) roles were available to actors, and how many to actresses, in each year of the 1950s?"
      ]
    },
    {
      "cell_type": "code",
      "metadata": {
        "id": "DGkSubbpXsie"
      },
      "source": [],
      "execution_count": null,
      "outputs": []
    },
    {
      "cell_type": "code",
      "metadata": {
        "id": "okupIhanXsin"
      },
      "source": [],
      "execution_count": null,
      "outputs": []
    },
    {
      "cell_type": "markdown",
      "metadata": {
        "collapsed": true,
        "id": "pS25coSbXsip"
      },
      "source": [
        "### In the 1950s decade taken as a whole, how many total roles were available to actors, and how many to actresses, for each \"n\" number 1 through 5?"
      ]
    },
    {
      "cell_type": "code",
      "metadata": {
        "id": "skjtasfDXsiq"
      },
      "source": [],
      "execution_count": null,
      "outputs": []
    },
    {
      "cell_type": "code",
      "metadata": {
        "id": "1gIYXQ1bXsi2"
      },
      "source": [],
      "execution_count": null,
      "outputs": []
    },
    {
      "cell_type": "markdown",
      "metadata": {
        "collapsed": true,
        "id": "YPs3PJndXsi3"
      },
      "source": [
        "### Use groupby() to determine how many roles are listed for each of the Pink Panther movies."
      ]
    },
    {
      "cell_type": "code",
      "metadata": {
        "id": "rUKI4uKRXsi4"
      },
      "source": [],
      "execution_count": null,
      "outputs": []
    },
    {
      "cell_type": "code",
      "metadata": {
        "id": "D1ZHQiPsXsi4"
      },
      "source": [],
      "execution_count": null,
      "outputs": []
    },
    {
      "cell_type": "markdown",
      "metadata": {
        "collapsed": true,
        "id": "JNBld_aIXsi4"
      },
      "source": [
        "### List, in order by year, each of the films in which Frank Oz has played more than 1 role."
      ]
    },
    {
      "cell_type": "code",
      "metadata": {
        "id": "gFKLKIjgXsi5"
      },
      "source": [],
      "execution_count": null,
      "outputs": []
    },
    {
      "cell_type": "code",
      "metadata": {
        "id": "nUVG-T-2Xsi5"
      },
      "source": [],
      "execution_count": null,
      "outputs": []
    },
    {
      "cell_type": "markdown",
      "metadata": {
        "collapsed": true,
        "id": "dMJErpj1Xsi6"
      },
      "source": [
        "### List each of the characters that Frank Oz has portrayed at least twice."
      ]
    },
    {
      "cell_type": "code",
      "metadata": {
        "id": "AzbFQ4rHXsi7"
      },
      "source": [],
      "execution_count": null,
      "outputs": []
    },
    {
      "cell_type": "code",
      "metadata": {
        "id": "y_zUEPu0Xsi-"
      },
      "source": [],
      "execution_count": null,
      "outputs": []
    },
    {
      "cell_type": "markdown",
      "metadata": {
        "id": "sIgdhbwVXsjH"
      },
      "source": [
        "***"
      ]
    },
    {
      "cell_type": "markdown",
      "metadata": {
        "id": "6iz4tKR2XsjH"
      },
      "source": [
        "***"
      ]
    },
    {
      "cell_type": "markdown",
      "metadata": {
        "id": "dmN4t3MkXsjr"
      },
      "source": [
        "***"
      ]
    },
    {
      "cell_type": "markdown",
      "metadata": {
        "collapsed": true,
        "id": "NmTYLRZ2Xsjt"
      },
      "source": [
        "### Define a year as a \"Superman year\" whose films feature more Superman characters than Batman. How many years in film history have been Superman years?"
      ]
    },
    {
      "cell_type": "code",
      "metadata": {
        "id": "7dAGgPXjXskr"
      },
      "source": [],
      "execution_count": null,
      "outputs": []
    },
    {
      "cell_type": "code",
      "metadata": {
        "id": "he1yZevjXsks"
      },
      "source": [],
      "execution_count": null,
      "outputs": []
    },
    {
      "cell_type": "markdown",
      "metadata": {
        "collapsed": true,
        "id": "arLeOlaMXsks"
      },
      "source": [
        "### How many years have been \"Batman years\", with more Batman characters than Superman characters?"
      ]
    },
    {
      "cell_type": "code",
      "metadata": {
        "id": "_Dl_ZN5YXskx"
      },
      "source": [],
      "execution_count": null,
      "outputs": []
    },
    {
      "cell_type": "code",
      "metadata": {
        "id": "oRnJYs8IXskx"
      },
      "source": [],
      "execution_count": null,
      "outputs": []
    },
    {
      "cell_type": "markdown",
      "metadata": {
        "collapsed": true,
        "id": "5BoPz5syXskz"
      },
      "source": [
        "### Plot the number of actor roles each year and the number of actress roles each year over the history of film."
      ]
    },
    {
      "cell_type": "code",
      "metadata": {
        "id": "j8zJc4anXsk0"
      },
      "source": [],
      "execution_count": null,
      "outputs": []
    },
    {
      "cell_type": "code",
      "metadata": {
        "id": "8kVRYve0XslG"
      },
      "source": [],
      "execution_count": null,
      "outputs": []
    },
    {
      "cell_type": "markdown",
      "metadata": {
        "collapsed": true,
        "id": "a40UMBVzXslK"
      },
      "source": [
        "### Plot the number of actor roles each year and the number of actress roles each year, but this time as a kind='area' plot."
      ]
    },
    {
      "cell_type": "code",
      "metadata": {
        "id": "pkMGHuNRXslL"
      },
      "source": [],
      "execution_count": null,
      "outputs": []
    },
    {
      "cell_type": "code",
      "metadata": {
        "id": "iCuNK4KKXslM"
      },
      "source": [],
      "execution_count": null,
      "outputs": []
    },
    {
      "cell_type": "markdown",
      "metadata": {
        "collapsed": true,
        "id": "MXYoFb1CXslN"
      },
      "source": [
        "### Plot the difference between the number of actor roles each year and the number of actress roles each year over the history of film."
      ]
    },
    {
      "cell_type": "code",
      "metadata": {
        "id": "mjE6x2D0XslN"
      },
      "source": [],
      "execution_count": null,
      "outputs": []
    },
    {
      "cell_type": "code",
      "metadata": {
        "id": "WdGZeqjAXslN"
      },
      "source": [],
      "execution_count": null,
      "outputs": []
    },
    {
      "cell_type": "markdown",
      "metadata": {
        "collapsed": true,
        "id": "F60-VG_rXslO"
      },
      "source": [
        "### Plot the fraction of roles that have been 'actor' roles each year in the history of film."
      ]
    },
    {
      "cell_type": "code",
      "metadata": {
        "id": "81agVri2XslO"
      },
      "source": [],
      "execution_count": null,
      "outputs": []
    },
    {
      "cell_type": "code",
      "metadata": {
        "id": "hO974chQXslO"
      },
      "source": [],
      "execution_count": null,
      "outputs": []
    },
    {
      "cell_type": "markdown",
      "metadata": {
        "collapsed": true,
        "id": "RtAahCtcXslO"
      },
      "source": [
        "### Plot the fraction of supporting (n=2) roles that have been 'actor' roles each year in the history of film."
      ]
    },
    {
      "cell_type": "code",
      "metadata": {
        "id": "u043UFQvXslP"
      },
      "source": [],
      "execution_count": null,
      "outputs": []
    },
    {
      "cell_type": "code",
      "metadata": {
        "id": "MfHU3u5JXslP"
      },
      "source": [],
      "execution_count": null,
      "outputs": []
    },
    {
      "cell_type": "markdown",
      "metadata": {
        "collapsed": true,
        "id": "xT74hbc6XslP"
      },
      "source": [
        "### Build a plot with a line for each rank n=1 through n=3, where the line shows what fraction of that rank's roles were 'actor' roles for each year in the history of film."
      ]
    },
    {
      "cell_type": "code",
      "metadata": {
        "id": "GXPx_lSfXslk"
      },
      "source": [],
      "execution_count": null,
      "outputs": []
    },
    {
      "cell_type": "code",
      "metadata": {
        "id": "7AXLjXNkXslm"
      },
      "source": [],
      "execution_count": null,
      "outputs": []
    },
    {
      "cell_type": "markdown",
      "metadata": {
        "id": "6Pht6rIPXslm"
      },
      "source": [
        "***"
      ]
    },
    {
      "cell_type": "markdown",
      "metadata": {
        "id": "r4c2hNiVXsln"
      },
      "source": [
        "***"
      ]
    },
    {
      "cell_type": "markdown",
      "metadata": {
        "id": "mCwaT6U7XsmB"
      },
      "source": [
        "***"
      ]
    },
    {
      "cell_type": "code",
      "metadata": {
        "id": "LFbFPgBbXsmC"
      },
      "source": [
        "release_dates = pd.read_csv(\n",
        "    'data/release_dates.csv',\n",
        "    parse_dates=['date'],\n",
        "    infer_datetime_format=True,\n",
        ")\n",
        "release_dates.head()"
      ],
      "execution_count": null,
      "outputs": []
    },
    {
      "cell_type": "code",
      "metadata": {
        "id": "3ocT_e6tXsmE"
      },
      "source": [],
      "execution_count": null,
      "outputs": []
    },
    {
      "cell_type": "markdown",
      "metadata": {
        "collapsed": true,
        "id": "Nxp8oqWdXsmF"
      },
      "source": [
        "### Make a bar plot of the months in which movies with \"Christmas\" in their title tend to be released in the USA."
      ]
    },
    {
      "cell_type": "code",
      "metadata": {
        "id": "UxzvcmOSXsmH"
      },
      "source": [],
      "execution_count": null,
      "outputs": []
    },
    {
      "cell_type": "code",
      "metadata": {
        "id": "cHzIZdsvXsmH"
      },
      "source": [],
      "execution_count": null,
      "outputs": []
    },
    {
      "cell_type": "markdown",
      "metadata": {
        "collapsed": true,
        "id": "xfDNCDKLXsmI"
      },
      "source": [
        "### Make a bar plot of the months in which movies whose titles start with \"The Hobbit\" are released in the USA."
      ]
    },
    {
      "cell_type": "code",
      "metadata": {
        "id": "ToyaZ75FXsmJ"
      },
      "source": [],
      "execution_count": null,
      "outputs": []
    },
    {
      "cell_type": "code",
      "metadata": {
        "id": "sghLThe7XsmT"
      },
      "source": [],
      "execution_count": null,
      "outputs": []
    },
    {
      "cell_type": "markdown",
      "metadata": {
        "collapsed": true,
        "id": "8zyYZNG_Xsmk"
      },
      "source": [
        "### Make a bar plot of the day of the week on which movies with \"Romance\" in their title tend to be released in the USA."
      ]
    },
    {
      "cell_type": "code",
      "metadata": {
        "id": "K33pYz2iXsmm"
      },
      "source": [],
      "execution_count": null,
      "outputs": []
    },
    {
      "cell_type": "code",
      "metadata": {
        "id": "UAlP4od5Xsmm"
      },
      "source": [],
      "execution_count": null,
      "outputs": []
    },
    {
      "cell_type": "markdown",
      "metadata": {
        "collapsed": true,
        "id": "BzcVW5TaXsmn"
      },
      "source": [
        "### Make a bar plot of the day of the week on which movies with \"Action\" in their title tend to be released in the USA."
      ]
    },
    {
      "cell_type": "code",
      "metadata": {
        "id": "QIDvtFpaXsmn"
      },
      "source": [],
      "execution_count": null,
      "outputs": []
    },
    {
      "cell_type": "code",
      "metadata": {
        "id": "jaB6wCN_Xsmo"
      },
      "source": [],
      "execution_count": null,
      "outputs": []
    },
    {
      "cell_type": "markdown",
      "metadata": {
        "collapsed": true,
        "id": "8-K6llC-Xsmo"
      },
      "source": [
        "### On which date was each Judi Dench movie from the 1990s released in the USA?"
      ]
    },
    {
      "cell_type": "code",
      "metadata": {
        "id": "n2L8yEAgXsmp"
      },
      "source": [],
      "execution_count": null,
      "outputs": []
    },
    {
      "cell_type": "code",
      "metadata": {
        "id": "MoZd6jGUXsnz"
      },
      "source": [],
      "execution_count": null,
      "outputs": []
    },
    {
      "cell_type": "markdown",
      "metadata": {
        "collapsed": true,
        "id": "A9Gvd3FgXsn0"
      },
      "source": [
        "### In which months do films with Judi Dench tend to be released in the USA?"
      ]
    },
    {
      "cell_type": "code",
      "metadata": {
        "id": "mjsNu_ZdXsn0"
      },
      "source": [],
      "execution_count": null,
      "outputs": []
    },
    {
      "cell_type": "code",
      "metadata": {
        "id": "JUUOWRVvXsn1"
      },
      "source": [],
      "execution_count": null,
      "outputs": []
    },
    {
      "cell_type": "markdown",
      "metadata": {
        "collapsed": true,
        "id": "8vVYWbVRXsn1"
      },
      "source": [
        "### In which months do films with Tom Cruise tend to be released in the USA?"
      ]
    },
    {
      "cell_type": "code",
      "metadata": {
        "id": "zQgfYf5YXsoJ"
      },
      "source": [],
      "execution_count": null,
      "outputs": []
    },
    {
      "cell_type": "code",
      "metadata": {
        "id": "g7eFTA26XsoN"
      },
      "source": [],
      "execution_count": null,
      "outputs": []
    }
  ]
}